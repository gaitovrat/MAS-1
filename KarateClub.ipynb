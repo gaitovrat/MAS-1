{
 "cells": [
  {
   "cell_type": "code",
   "execution_count": 1,
   "metadata": {},
   "outputs": [],
   "source": [
    "import csv\n",
    "from sys import argv\n",
    "import matplotlib.pyplot as plt\n",
    "import numpy as np"
   ]
  },
  {
   "cell_type": "code",
   "execution_count": 2,
   "metadata": {},
   "outputs": [],
   "source": [
    "N = 34\n",
    "FILENAME = \"KarateClub.csv\""
   ]
  },
  {
   "cell_type": "markdown",
   "metadata": {},
   "source": [
    "# Adjacency Matrix"
   ]
  },
  {
   "cell_type": "code",
   "execution_count": 3,
   "metadata": {},
   "outputs": [
    {
     "data": {
      "text/plain": [
       "matrix([[0, 1, 1, ..., 1, 0, 0],\n",
       "        [1, 0, 1, ..., 0, 0, 0],\n",
       "        [1, 1, 0, ..., 0, 1, 0],\n",
       "        ...,\n",
       "        [1, 0, 0, ..., 0, 1, 1],\n",
       "        [0, 0, 1, ..., 1, 0, 1],\n",
       "        [0, 0, 0, ..., 1, 1, 0]])"
      ]
     },
     "execution_count": 3,
     "metadata": {},
     "output_type": "execute_result"
    }
   ],
   "source": [
    "data = [[0] * N for _ in range(N)]\n",
    "with open(FILENAME, \"r\") as fd:\n",
    "    reader = csv.reader(fd, delimiter=';')\n",
    "    for line in reader:\n",
    "        i = int(line[0]) - 1\n",
    "        j = int(line[1]) - 1\n",
    "        data[i][j] = data[j][i] = 1\n",
    "        \n",
    "np.matrix(data)"
   ]
  },
  {
   "cell_type": "code",
   "execution_count": 4,
   "metadata": {},
   "outputs": [
    {
     "name": "stdout",
     "output_type": "stream",
     "text": [
      "min: 1\n",
      "max: 17\n",
      "prumer: 4.59\n"
     ]
    }
   ],
   "source": [
    "stupen_vrcholu = [0] * N\n",
    "for i in range(N):\n",
    "    stupen_vrcholu[i] = sum(data[i])\n",
    "    \n",
    "min_stupen_vrcholu = min(stupen_vrcholu)\n",
    "max_stupen_vrcholu = max(stupen_vrcholu)\n",
    "prumer_stupen_vrcholu = sum(stupen_vrcholu) / N\n",
    "    \n",
    "print(f\"min: {min_stupen_vrcholu}\")\n",
    "print(f\"max: {max_stupen_vrcholu}\")\n",
    "print(f\"prumer: {prumer_stupen_vrcholu:.2f}\")"
   ]
  },
  {
   "cell_type": "code",
   "execution_count": 11,
   "metadata": {},
   "outputs": [
    {
     "data": {
      "image/png": "[encoded data removed]",
      "text/plain": [
       "<Figure size 640x480 with 1 Axes>"
      ]
     },
     "metadata": {},
     "output_type": "display_data"
    }
   ],
   "source": [
    "plt.hist(stupen_vrcholu, edgecolor=\"black\", bins=max_stupen_vrcholu)\n",
    "plt.show()"
   ]
  },
  {
   "cell_type": "code",
   "execution_count": 15,
   "metadata": {},
   "outputs": [
    {
     "data": {
      "image/png": "[encoded data removed]",
      "text/plain": [
       "<Figure size 640x480 with 1 Axes>"
      ]
     },
     "metadata": {},
     "output_type": "display_data"
    }
   ],
   "source": [
    "sum_stupen_vrcholu = sum(stupen_vrcholu)\n",
    "relativni = [stupen / sum_stupen_vrcholu for stupen in stupen_vrcholu]\n",
    "\n",
    "plt.hist(relativni, edgecolor=\"black\", bins=max_stupen_vrcholu)\n",
    "plt.show()"
   ]
  },
  {
   "cell_type": "markdown",
   "metadata": {},
   "source": [
    "# Adjacency List"
   ]
  },
  {
   "cell_type": "code",
   "execution_count": 8,
   "metadata": {},
   "outputs": [
    {
     "name": "stdout",
     "output_type": "stream",
     "text": [
      "(2, 1)\n",
      "(3, 1)\n",
      "(3, 2)\n",
      "(4, 1)\n",
      "(4, 2)\n",
      "(4, 3)\n",
      "(5, 1)\n",
      "(6, 1)\n",
      "(7, 1)\n",
      "(7, 5)\n",
      "(7, 6)\n",
      "(8, 1)\n",
      "(8, 2)\n",
      "(8, 3)\n",
      "(8, 4)\n",
      "(9, 1)\n",
      "(9, 3)\n",
      "(10, 3)\n",
      "(11, 1)\n",
      "(11, 5)\n",
      "(11, 6)\n",
      "(12, 1)\n",
      "(13, 1)\n",
      "(13, 4)\n",
      "(14, 1)\n",
      "(14, 2)\n",
      "(14, 3)\n",
      "(14, 4)\n",
      "(17, 6)\n",
      "(17, 7)\n",
      "(18, 1)\n",
      "(18, 2)\n",
      "(20, 1)\n",
      "(20, 2)\n",
      "(22, 1)\n",
      "(22, 2)\n",
      "(26, 24)\n",
      "(26, 25)\n",
      "(28, 3)\n",
      "(28, 24)\n",
      "(28, 25)\n",
      "(29, 3)\n",
      "(30, 24)\n",
      "(30, 27)\n",
      "(31, 2)\n",
      "(31, 9)\n",
      "(32, 1)\n",
      "(32, 25)\n",
      "(32, 26)\n",
      "(32, 29)\n",
      "(33, 3)\n",
      "(33, 9)\n",
      "(33, 15)\n",
      "(33, 16)\n",
      "(33, 19)\n",
      "(33, 21)\n",
      "(33, 23)\n",
      "(33, 24)\n",
      "(33, 30)\n",
      "(33, 31)\n",
      "(33, 32)\n",
      "(34, 9)\n",
      "(34, 10)\n",
      "(34, 14)\n",
      "(34, 15)\n",
      "(34, 16)\n",
      "(34, 19)\n",
      "(34, 20)\n",
      "(34, 21)\n",
      "(34, 23)\n",
      "(34, 24)\n",
      "(34, 27)\n",
      "(34, 28)\n",
      "(34, 29)\n",
      "(34, 30)\n",
      "(34, 31)\n",
      "(34, 32)\n",
      "(34, 33)\n"
     ]
    }
   ],
   "source": [
    "data = []\n",
    "\n",
    "with open(FILENAME, \"r\") as fd:\n",
    "    reader = csv.reader(fd, delimiter=';')\n",
    "    for line in reader:\n",
    "        i = int(line[0])\n",
    "        j = int(line[1])\n",
    "        data.append((i, j,))\n",
    "        \n",
    "for row in data:\n",
    "    print(row)"
   ]
  },
  {
   "cell_type": "code",
   "execution_count": 9,
   "metadata": {},
   "outputs": [
    {
     "name": "stdout",
     "output_type": "stream",
     "text": [
      "min: 1\n",
      "max: 17\n",
      "prumer: 4.59\n"
     ]
    }
   ],
   "source": [
    "stupen_vrcholu = [0] * N\n",
    "for i in data:\n",
    "    stupen_vrcholu[i[0] - 1] += 1\n",
    "    stupen_vrcholu[i[1] - 1] += 1\n",
    "    \n",
    "min_stupen_vrcholu = min(stupen_vrcholu)\n",
    "max_stupen_vrcholu = max(stupen_vrcholu)\n",
    "prumer_stupen_vrcholu = sum(stupen_vrcholu) / N\n",
    "    \n",
    "print(f\"min: {min_stupen_vrcholu}\")\n",
    "print(f\"max: {max_stupen_vrcholu}\")\n",
    "print(f\"prumer: {prumer_stupen_vrcholu:.2f}\")"
   ]
  },
  {
   "cell_type": "code",
   "execution_count": 16,
   "metadata": {},
   "outputs": [
    {
     "data": {
      "image/png": "[encoded data removed]",
      "text/plain": [
       "<Figure size 640x480 with 1 Axes>"
      ]
     },
     "metadata": {},
     "output_type": "display_data"
    }
   ],
   "source": [
    "plt.hist(stupen_vrcholu, edgecolor=\"black\", bins=max_stupen_vrcholu)\n",
    "plt.show()"
   ]
  },
  {
   "cell_type": "code",
   "execution_count": 17,
   "metadata": {},
   "outputs": [
    {
     "data": {
      "image/png": "[encoded data removed]",
      "text/plain": [
       "<Figure size 640x480 with 1 Axes>"
      ]
     },
     "metadata": {},
     "output_type": "display_data"
    }
   ],
   "source": [
    "sum_stupen_vrcholu = sum(stupen_vrcholu)\n",
    "relativni = [stupen / sum_stupen_vrcholu for stupen in stupen_vrcholu]\n",
    "\n",
    "plt.hist(relativni, edgecolor=\"black\", bins=max_stupen_vrcholu)\n",
    "plt.show()"
   ]
  }
 ],
 "metadata": {
  "kernelspec": {
   "display_name": "Python 3",
   "language": "python",
   "name": "python3"
  },
  "language_info": {
   "codemirror_mode": {
    "name": "ipython",
    "version": 3
   },
   "file_extension": ".py",
   "mimetype": "text/x-python",
   "name": "python",
   "nbconvert_exporter": "python",
   "pygments_lexer": "ipython3",
   "version": "3.12.2"
  }
 },
 "nbformat": 4,
 "nbformat_minor": 2
}
