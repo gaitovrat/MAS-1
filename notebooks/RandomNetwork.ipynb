{
 "cells": [
  {
   "cell_type": "code",
   "execution_count": 37,
   "metadata": {},
   "outputs": [],
   "source": [
    "import os\n",
    "import networkx as nx\n",
    "import numpy as np\n",
    "from pathlib import Path"
   ]
  },
  {
   "cell_type": "code",
   "execution_count": 39,
   "metadata": {},
   "outputs": [],
   "source": [
    "N = 550\n",
    "OUTPUT_FOLDER = Path(\"../out\")\n",
    "\n",
    "os.makedirs(OUTPUT_FOLDER, exist_ok=True)"
   ]
  },
  {
   "cell_type": "code",
   "execution_count": 40,
   "metadata": {},
   "outputs": [],
   "source": [
    "def generate(n: int, p: float) -> nx.Graph:\n",
    "    graph = nx.Graph()\n",
    "    graph.add_nodes_from(range(n))\n",
    "\n",
    "    for i in graph:\n",
    "        for j in graph:\n",
    "            if i == j or graph.has_edge(i, j):\n",
    "                continue\n",
    "\n",
    "            r = np.random.uniform()\n",
    "            if r > p:\n",
    "                continue\n",
    "            graph.add_edge(i, j)\n",
    "\n",
    "    return graph\n",
    "\n",
    "def degree(graph: nx.Graph) -> float:\n",
    "    degrees = [degree for _, degree in graph.degree()]\n",
    "    return sum(degrees) / len(degrees)\n"
   ]
  },
  {
   "cell_type": "code",
   "execution_count": 41,
   "metadata": {},
   "outputs": [
    {
     "data": {
      "text/plain": [
       "10.683636363636364"
      ]
     },
     "execution_count": 41,
     "metadata": {},
     "output_type": "execute_result"
    }
   ],
   "source": [
    "more_1 = generate(N, 0.01)\n",
    "degree(more_1)"
   ]
  },
  {
   "cell_type": "code",
   "execution_count": 42,
   "metadata": {},
   "outputs": [
    {
     "data": {
      "text/plain": [
       "1.1272727272727272"
      ]
     },
     "execution_count": 42,
     "metadata": {},
     "output_type": "execute_result"
    }
   ],
   "source": [
    "one = generate(N, 0.001)\n",
    "degree(one)"
   ]
  },
  {
   "cell_type": "code",
   "execution_count": 43,
   "metadata": {},
   "outputs": [
    {
     "data": {
      "text/plain": [
       "0.09818181818181818"
      ]
     },
     "execution_count": 43,
     "metadata": {},
     "output_type": "execute_result"
    }
   ],
   "source": [
    "less_1 = generate(N, 0.0001)\n",
    "degree(less_1)"
   ]
  },
  {
   "cell_type": "code",
   "execution_count": 47,
   "metadata": {},
   "outputs": [],
   "source": [
    "nx.write_gexf(more_1, path=OUTPUT_FOLDER / \"more_1.gexf\")\n",
    "nx.write_gexf(one, path=OUTPUT_FOLDER / \"one.gexf\")\n",
    "nx.write_gexf(less_1, path=OUTPUT_FOLDER / \"less_1.gexf\")"
   ]
  }
 ],
 "metadata": {
  "kernelspec": {
   "display_name": ".venv",
   "language": "python",
   "name": "python3"
  },
  "language_info": {
   "codemirror_mode": {
    "name": "ipython",
    "version": 3
   },
   "file_extension": ".py",
   "mimetype": "text/x-python",
   "name": "python",
   "nbconvert_exporter": "python",
   "pygments_lexer": "ipython3",
   "version": "3.13.0"
  }
 },
 "nbformat": 4,
 "nbformat_minor": 2
}
