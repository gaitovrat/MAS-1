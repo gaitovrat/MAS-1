{
 "cells": [
  {
   "cell_type": "code",
   "execution_count": 97,
   "metadata": {},
   "outputs": [],
   "source": [
    "from scipy.io import mmread\n",
    "import networkx as nx\n",
    "import os\n",
    "from pathlib import Path\n",
    "import numpy as np\n",
    "import matplotlib.pyplot as plt\n",
    "import pandas as pd\n",
    "from sklearn.preprocessing import MinMaxScaler"
   ]
  },
  {
   "cell_type": "code",
   "execution_count": 98,
   "metadata": {},
   "outputs": [],
   "source": [
    "ROOT_FOLDER = Path(\"..\")\n",
    "DATA_FOLDER = ROOT_FOLDER / \"data\"\n",
    "OUTPUT_FOLDER = ROOT_FOLDER / \"out\"\n",
    "\n",
    "os.makedirs(OUTPUT_FOLDER, exist_ok=True)"
   ]
  },
  {
   "cell_type": "code",
   "execution_count": 99,
   "metadata": {},
   "outputs": [],
   "source": [
    "matrix = mmread(DATA_FOLDER / \"econ-poli-large.mtx\")\n",
    "G = nx.DiGraph()"
   ]
  },
  {
   "cell_type": "code",
   "execution_count": 100,
   "metadata": {},
   "outputs": [],
   "source": [
    "rows, cols, data = matrix.row, matrix.col, matrix.data"
   ]
  },
  {
   "cell_type": "code",
   "execution_count": 102,
   "metadata": {},
   "outputs": [],
   "source": [
    "for source, target, weight in zip(rows, cols, data):\n",
    "    G.add_edge(source + 1, target + 1, weight=weight)"
   ]
  },
  {
   "cell_type": "code",
   "execution_count": 103,
   "metadata": {},
   "outputs": [],
   "source": [
    "nx.write_gexf(G, path=OUTPUT_FOLDER / \"project.gexf\")"
   ]
  },
  {
   "cell_type": "code",
   "execution_count": 114,
   "metadata": {},
   "outputs": [
    {
     "data": {
      "text/html": [
       "<div>\n",
       "<style scoped>\n",
       "    .dataframe tbody tr th:only-of-type {\n",
       "        vertical-align: middle;\n",
       "    }\n",
       "\n",
       "    .dataframe tbody tr th {\n",
       "        vertical-align: top;\n",
       "    }\n",
       "\n",
       "    .dataframe thead th {\n",
       "        text-align: right;\n",
       "    }\n",
       "</style>\n",
       "<table border=\"1\" class=\"dataframe\">\n",
       "  <thead>\n",
       "    <tr style=\"text-align: right;\">\n",
       "      <th></th>\n",
       "      <th>Id</th>\n",
       "      <th>Label</th>\n",
       "      <th>indegree</th>\n",
       "      <th>outdegree</th>\n",
       "      <th>Degree</th>\n",
       "      <th>eigencentrality</th>\n",
       "      <th>clustering</th>\n",
       "      <th>modularity_class</th>\n",
       "      <th>stat_inf_class</th>\n",
       "      <th>weighted indegree</th>\n",
       "      <th>weighted outdegree</th>\n",
       "      <th>Weighted Degree</th>\n",
       "      <th>Eccentricity</th>\n",
       "      <th>closnesscentrality</th>\n",
       "      <th>harmonicclosnesscentrality</th>\n",
       "      <th>betweenesscentrality</th>\n",
       "      <th>componentnumber</th>\n",
       "      <th>strongcompnum</th>\n",
       "    </tr>\n",
       "  </thead>\n",
       "  <tbody>\n",
       "    <tr>\n",
       "      <th>0</th>\n",
       "      <td>1</td>\n",
       "      <td>1</td>\n",
       "      <td>1</td>\n",
       "      <td>145</td>\n",
       "      <td>146</td>\n",
       "      <td>0.005391</td>\n",
       "      <td>0.009052</td>\n",
       "      <td>0</td>\n",
       "      <td>35</td>\n",
       "      <td>1.0000</td>\n",
       "      <td>-66.63240</td>\n",
       "      <td>-65.63240</td>\n",
       "      <td>11</td>\n",
       "      <td>0.139220</td>\n",
       "      <td>0.161498</td>\n",
       "      <td>0.000000</td>\n",
       "      <td>0</td>\n",
       "      <td>15465</td>\n",
       "    </tr>\n",
       "    <tr>\n",
       "      <th>1</th>\n",
       "      <td>2</td>\n",
       "      <td>2</td>\n",
       "      <td>4</td>\n",
       "      <td>4</td>\n",
       "      <td>8</td>\n",
       "      <td>0.108882</td>\n",
       "      <td>0.190476</td>\n",
       "      <td>1</td>\n",
       "      <td>0</td>\n",
       "      <td>0.0000</td>\n",
       "      <td>-0.09800</td>\n",
       "      <td>-0.09800</td>\n",
       "      <td>5</td>\n",
       "      <td>0.378486</td>\n",
       "      <td>0.414386</td>\n",
       "      <td>4632.833333</td>\n",
       "      <td>0</td>\n",
       "      <td>11457</td>\n",
       "    </tr>\n",
       "    <tr>\n",
       "      <th>2</th>\n",
       "      <td>1761</td>\n",
       "      <td>1761</td>\n",
       "      <td>2</td>\n",
       "      <td>188</td>\n",
       "      <td>190</td>\n",
       "      <td>0.171701</td>\n",
       "      <td>0.006855</td>\n",
       "      <td>2</td>\n",
       "      <td>27</td>\n",
       "      <td>0.9497</td>\n",
       "      <td>-124.02205</td>\n",
       "      <td>-123.07235</td>\n",
       "      <td>10</td>\n",
       "      <td>0.227935</td>\n",
       "      <td>0.267383</td>\n",
       "      <td>101354.921429</td>\n",
       "      <td>0</td>\n",
       "      <td>15053</td>\n",
       "    </tr>\n",
       "    <tr>\n",
       "      <th>3</th>\n",
       "      <td>7097</td>\n",
       "      <td>7097</td>\n",
       "      <td>4</td>\n",
       "      <td>20</td>\n",
       "      <td>24</td>\n",
       "      <td>0.092854</td>\n",
       "      <td>0.051383</td>\n",
       "      <td>3</td>\n",
       "      <td>0</td>\n",
       "      <td>0.1734</td>\n",
       "      <td>-11.55560</td>\n",
       "      <td>-11.38220</td>\n",
       "      <td>6</td>\n",
       "      <td>0.341317</td>\n",
       "      <td>0.404605</td>\n",
       "      <td>10605.850000</td>\n",
       "      <td>0</td>\n",
       "      <td>11458</td>\n",
       "    </tr>\n",
       "    <tr>\n",
       "      <th>4</th>\n",
       "      <td>3</td>\n",
       "      <td>3</td>\n",
       "      <td>5</td>\n",
       "      <td>35</td>\n",
       "      <td>40</td>\n",
       "      <td>0.093512</td>\n",
       "      <td>0.027665</td>\n",
       "      <td>4</td>\n",
       "      <td>0</td>\n",
       "      <td>-0.0000</td>\n",
       "      <td>-29.06400</td>\n",
       "      <td>-29.06400</td>\n",
       "      <td>1</td>\n",
       "      <td>1.000000</td>\n",
       "      <td>1.000000</td>\n",
       "      <td>3570.000000</td>\n",
       "      <td>0</td>\n",
       "      <td>11456</td>\n",
       "    </tr>\n",
       "  </tbody>\n",
       "</table>\n",
       "</div>"
      ],
      "text/plain": [
       "     Id  Label  indegree  outdegree  Degree  eigencentrality  clustering  \\\n",
       "0     1      1         1        145     146         0.005391    0.009052   \n",
       "1     2      2         4          4       8         0.108882    0.190476   \n",
       "2  1761   1761         2        188     190         0.171701    0.006855   \n",
       "3  7097   7097         4         20      24         0.092854    0.051383   \n",
       "4     3      3         5         35      40         0.093512    0.027665   \n",
       "\n",
       "   modularity_class  stat_inf_class  weighted indegree  weighted outdegree  \\\n",
       "0                 0              35             1.0000           -66.63240   \n",
       "1                 1               0             0.0000            -0.09800   \n",
       "2                 2              27             0.9497          -124.02205   \n",
       "3                 3               0             0.1734           -11.55560   \n",
       "4                 4               0            -0.0000           -29.06400   \n",
       "\n",
       "   Weighted Degree  Eccentricity  closnesscentrality  \\\n",
       "0        -65.63240            11            0.139220   \n",
       "1         -0.09800             5            0.378486   \n",
       "2       -123.07235            10            0.227935   \n",
       "3        -11.38220             6            0.341317   \n",
       "4        -29.06400             1            1.000000   \n",
       "\n",
       "   harmonicclosnesscentrality  betweenesscentrality  componentnumber  \\\n",
       "0                    0.161498              0.000000                0   \n",
       "1                    0.414386           4632.833333                0   \n",
       "2                    0.267383         101354.921429                0   \n",
       "3                    0.404605          10605.850000                0   \n",
       "4                    1.000000           3570.000000                0   \n",
       "\n",
       "   strongcompnum  \n",
       "0          15465  \n",
       "1          11457  \n",
       "2          15053  \n",
       "3          11458  \n",
       "4          11456  "
      ]
     },
     "execution_count": 114,
     "metadata": {},
     "output_type": "execute_result"
    }
   ],
   "source": [
    "df = pd.read_csv(DATA_FOLDER / \"Project.csv\")\n",
    "df.head()"
   ]
  },
  {
   "cell_type": "code",
   "execution_count": 115,
   "metadata": {},
   "outputs": [
    {
     "data": {
      "text/plain": [
       "Index(['Id', 'Label', 'indegree', 'outdegree', 'Degree', 'eigencentrality',\n",
       "       'clustering', 'modularity_class', 'stat_inf_class', 'weighted indegree',\n",
       "       'weighted outdegree', 'Weighted Degree', 'Eccentricity',\n",
       "       'closnesscentrality', 'harmonicclosnesscentrality',\n",
       "       'betweenesscentrality', 'componentnumber', 'strongcompnum'],\n",
       "      dtype='object')"
      ]
     },
     "execution_count": 115,
     "metadata": {},
     "output_type": "execute_result"
    }
   ],
   "source": [
    "df.columns"
   ]
  },
  {
   "cell_type": "code",
   "execution_count": 109,
   "metadata": {},
   "outputs": [
    {
     "data": {
      "text/plain": [
       "0.00013635105304741964"
      ]
     },
     "execution_count": 109,
     "metadata": {},
     "output_type": "execute_result"
    }
   ],
   "source": [
    "num_nodes = len(G.nodes)\n",
    "num_edges = len(G.edges)\n",
    "num_edges / (num_nodes * (num_nodes - 1))"
   ]
  },
  {
   "cell_type": "code",
   "execution_count": 112,
   "metadata": {},
   "outputs": [
    {
     "name": "stdout",
     "output_type": "stream",
     "text": [
      "Průměrný shlukovací koeficient (CC): 0.456\n"
     ]
    },
    {
     "data": {
      "image/png": "[encoded data removed]",
      "text/plain": [
       "<Figure size 800x600 with 1 Axes>"
      ]
     },
     "metadata": {},
     "output_type": "display_data"
    }
   ],
   "source": [
    "average_clustering_coefficient = df['clustering'].mean()\n",
    "print(f\"Průměrný shlukovací koeficient (CC): {average_clustering_coefficient:.3f}\")\n",
    "\n",
    "# Shlukovací efekt - průměrný CC pro vrcholy daného stupně\n",
    "degree_clustering = df.groupby('Degree')['clustering'].mean()\n",
    "\n",
    "# Vizualizace shlukovacího efektu\n",
    "plt.figure(figsize=(8, 6))\n",
    "plt.plot(degree_clustering.index, degree_clustering.values, marker='o', linestyle='-')\n",
    "plt.xlabel('Stupeň vrcholu (Degree)')\n",
    "plt.ylabel('Průměrný shlukovací koeficient (CC)')\n",
    "plt.title('Shlukovací efekt (CC vs. Degree)')\n",
    "plt.grid()\n",
    "plt.show()"
   ]
  },
  {
   "cell_type": "code",
   "execution_count": 118,
   "metadata": {},
   "outputs": [
    {
     "name": "stdout",
     "output_type": "stream",
     "text": [
      "Počet souvislých komponent: 15466\n",
      "Distribuce velikostí komponent:\n",
      "strongcompnum\n",
      "15053    90\n",
      "4034      4\n",
      "11878     4\n",
      "11458     3\n",
      "4861      2\n",
      "         ..\n",
      "20        1\n",
      "19        1\n",
      "18        1\n",
      "17        1\n",
      "15440     1\n",
      "Name: count, Length: 15466, dtype: int64\n"
     ]
    },
    {
     "data": {
      "image/png": "[encoded data removed]",
      "text/plain": [
       "<Figure size 1000x600 with 1 Axes>"
      ]
     },
     "metadata": {},
     "output_type": "display_data"
    }
   ],
   "source": [
    "# Počet souvislých komponent\n",
    "unique_components = df['strongcompnum'].nunique()\n",
    "print(f\"Počet souvislých komponent: {unique_components}\")\n",
    "\n",
    "# Distribuce velikostí komponent\n",
    "component_distribution = df['strongcompnum'].value_counts()\n",
    "print(\"Distribuce velikostí komponent:\")\n",
    "print(component_distribution)\n",
    "\n",
    "plt.figure(figsize=(10, 6))\n",
    "plt.hist(component_distribution, bins=range(1, component_distribution.max() + 1), edgecolor='black', align='left')\n",
    "plt.title('Distribuce velikostí komponent')\n",
    "plt.xlabel('Velikost komponenty (počet vrcholů)')\n",
    "plt.ylabel('Počet komponent')\n",
    "plt.show()\n"
   ]
  },
  {
   "cell_type": "code",
   "execution_count": null,
   "metadata": {},
   "outputs": [],
   "source": []
  }
 ],
 "metadata": {
  "kernelspec": {
   "display_name": "mas1",
   "language": "python",
   "name": "python3"
  },
  "language_info": {
   "codemirror_mode": {
    "name": "ipython",
    "version": 3
   },
   "file_extension": ".py",
   "mimetype": "text/x-python",
   "name": "python",
   "nbconvert_exporter": "python",
   "pygments_lexer": "ipython3",
   "version": "3.12.8"
  }
 },
 "nbformat": 4,
 "nbformat_minor": 2
}
