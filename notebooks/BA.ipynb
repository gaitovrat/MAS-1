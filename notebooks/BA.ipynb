{
 "cells": [
  {
   "cell_type": "code",
   "execution_count": 7,
   "metadata": {},
   "outputs": [],
   "source": [
    "import numpy as np\n",
    "import networkx as nx\n",
    "from pathlib import Path\n",
    "import os"
   ]
  },
  {
   "cell_type": "code",
   "execution_count": 8,
   "metadata": {},
   "outputs": [],
   "source": [
    "N = 550\n",
    "OUTPUT_FOLDER = Path(\"../out\")\n",
    "\n",
    "os.makedirs(OUTPUT_FOLDER, exist_ok=True)"
   ]
  },
  {
   "cell_type": "code",
   "execution_count": 5,
   "metadata": {},
   "outputs": [],
   "source": [
    "def ba(n: int, m: int) -> nx.Graph:\n",
    "    G = nx.Graph()\n",
    "    G.add_nodes_from(range(m))\n",
    "    \n",
    "    for i in range(m):\n",
    "        for j in range(i + 1, m):\n",
    "            G.add_edge(i, j)\n",
    "    \n",
    "    degrees = np.array([degree for node, degree in G.degree()])\n",
    "    \n",
    "    for new_node in range(m, n):\n",
    "        prob = degrees / degrees.sum()\n",
    "        \n",
    "        chosen_nodes = np.random.choice(range(new_node), size=m, replace=False, p=prob)\n",
    "        \n",
    "        for node in chosen_nodes:\n",
    "            G.add_edge(new_node, node)\n",
    "        degrees = np.array([degree for _, degree in G.degree()])\n",
    "    \n",
    "    return G\n"
   ]
  },
  {
   "cell_type": "code",
   "execution_count": 6,
   "metadata": {},
   "outputs": [],
   "source": [
    "graph2 = ba(N, 2)\n",
    "graph3 = ba(N, 3)"
   ]
  },
  {
   "cell_type": "code",
   "execution_count": 9,
   "metadata": {},
   "outputs": [],
   "source": [
    "nx.write_gexf(graph2, path=OUTPUT_FOLDER / \"ba2.gexf\")\n",
    "nx.write_gexf(graph3, path=OUTPUT_FOLDER / \"ba3.gexf\")"
   ]
  }
 ],
 "metadata": {
  "kernelspec": {
   "display_name": ".venv",
   "language": "python",
   "name": "python3"
  },
  "language_info": {
   "codemirror_mode": {
    "name": "ipython",
    "version": 3
   },
   "file_extension": ".py",
   "mimetype": "text/x-python",
   "name": "python",
   "nbconvert_exporter": "python",
   "pygments_lexer": "ipython3",
   "version": "3.13.1"
  }
 },
 "nbformat": 4,
 "nbformat_minor": 2
}
